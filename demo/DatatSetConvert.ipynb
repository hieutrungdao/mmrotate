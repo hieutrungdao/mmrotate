{
 "cells": [
  {
   "cell_type": "code",
   "execution_count": 27,
   "id": "999641b0-2391-42f8-a252-e957e9f748cd",
   "metadata": {},
   "outputs": [],
   "source": [
    "import mmcv\n",
    "import matplotlib.pyplot as plt\n",
    "import math \n",
    "from matplotlib.patches import Rectangle, Polygon\n",
    "from PIL import Image\n",
    "import numpy as np\n",
    "import os\n",
    "import shutil\n",
    "import json\n",
    "import cv2\n",
    "from tqdm import tqdm"
   ]
  },
  {
   "cell_type": "code",
   "execution_count": 6,
   "id": "2ec7f1b0-702c-408d-a41e-85a6b3262bb1",
   "metadata": {},
   "outputs": [],
   "source": [
    "def npxywha2vertex(box):\n",
    "    \"\"\"\n",
    "    use radian\n",
    "    X=x*cos(a)-y*sin(a)\n",
    "    Y=x*sin(a)+y*cos(a)\n",
    "    \"\"\"\n",
    "    batch = box.shape[0]\n",
    "\n",
    "    center = box[:,:2]\n",
    "    w = box[:,2]\n",
    "    h = box[:,3]\n",
    "    rad = box[:,4]\n",
    "\n",
    "    # calculate two vector\n",
    "    verti = np.empty((batch,2), dtype=np.float32)\n",
    "    verti[:,0] = (h/2) * np.sin(rad)\n",
    "    verti[:,1] = - (h/2) * np.cos(rad)\n",
    "\n",
    "    hori = np.empty((batch,2), dtype=np.float32)\n",
    "    hori[:,0] = (w/2) * np.cos(rad)\n",
    "    hori[:,1] = (w/2) * np.sin(rad)\n",
    "\n",
    "    tl = center + verti - hori\n",
    "    tr = center + verti + hori\n",
    "    br = center - verti + hori\n",
    "    bl = center - verti - hori\n",
    "\n",
    "    return np.concatenate([tl,tr,br,bl], axis=1)"
   ]
  },
  {
   "cell_type": "code",
   "execution_count": 7,
   "id": "9f3686c5-44fc-4d72-aa21-36a08fc31de3",
   "metadata": {},
   "outputs": [],
   "source": [
    "path = \"../../../data/Phamacity/\""
   ]
  },
  {
   "cell_type": "code",
   "execution_count": 8,
   "id": "0ee75b56-2b38-4012-8574-42a3bcd20156",
   "metadata": {},
   "outputs": [],
   "source": [
    "for filename in os.listdir(path):\n",
    "    # print(filename)\n",
    "    if filename.endswith(\".json\"):\n",
    "        f = open(path + filename)\n",
    "        data = json.load(f)\n",
    "        \n",
    "        for anno in data['annotations']: \n",
    "            # print(anno)\n",
    "            image_id = anno['image_id']\n",
    "            bbox = anno['bbox']\n",
    "            bbox[4] = bbox[4] / 180 * math.pi\n",
    "            bbox = np.array(bbox)\n",
    "            bbox = npxywha2vertex(bbox[np.newaxis])\n",
    "\n",
    "            with open(path + 'dota/'+image_id+'.txt', 'w') as txt:\n",
    "                for cor in bbox[0]:\n",
    "                    txt.write(cor.astype('str') + ' ')\n",
    "                txt.write('person 0\\n')\n",
    "\n",
    "        f.close()\n",
    "        "
   ]
  },
  {
   "cell_type": "code",
   "execution_count": 28,
   "id": "6de13c47-a057-401b-affc-fd42b0ad0ff2",
   "metadata": {},
   "outputs": [
    {
     "name": "stderr",
     "output_type": "stream",
     "text": [
      "100%|██████████| 10/10 [00:00<00:00, 209715.20it/s]\n",
      "100%|██████████| 5890/5890 [00:00<00:00, 4549622.57it/s]\n",
      "100%|██████████| 4121/4121 [00:00<00:00, 4322262.26it/s]\n",
      "100%|██████████| 1341/1341 [00:53<00:00, 24.84it/s]\n",
      "100%|██████████| 742/742 [00:18<00:00, 39.35it/s]\n",
      "100%|██████████| 1334/1334 [00:32<00:00, 41.39it/s]\n",
      "100%|██████████| 1697/1697 [00:47<00:00, 35.82it/s]\n",
      "100%|██████████| 3439/3439 [01:28<00:00, 38.70it/s]\n",
      "100%|██████████| 2339/2339 [00:58<00:00, 40.01it/s]\n",
      "100%|██████████| 924/924 [00:24<00:00, 37.69it/s]\n",
      "100%|██████████| 525/525 [00:09<00:00, 55.91it/s]\n",
      "100%|██████████| 688/688 [00:12<00:00, 56.38it/s]\n",
      "100%|██████████| 2130/2130 [00:39<00:00, 54.53it/s]\n"
     ]
    }
   ],
   "source": [
    "\n",
    "for dir in os.listdir(path):\n",
    "    if os.path.isdir(path+dir):\n",
    "        for filename in tqdm(os.listdir(path+dir)):\n",
    "            if filename.endswith(\".jpg\"):\n",
    "                # print(path+dir+'/'+filename)\n",
    "                img = cv2.imread(path+dir+'/'+filename)\n",
    "                shutil.copy2(path+dir+'/'+filename, path+'images')\n",
    "                "
   ]
  },
  {
   "cell_type": "code",
   "execution_count": null,
   "id": "3c08f2ed-1129-4cca-9333-7d91e07518ad",
   "metadata": {},
   "outputs": [],
   "source": []
  }
 ],
 "metadata": {
  "kernelspec": {
   "display_name": "Python 3",
   "language": "python",
   "name": "python3"
  },
  "language_info": {
   "codemirror_mode": {
    "name": "ipython",
    "version": 3
   },
   "file_extension": ".py",
   "mimetype": "text/x-python",
   "name": "python",
   "nbconvert_exporter": "python",
   "pygments_lexer": "ipython3",
   "version": "3.7.11"
  }
 },
 "nbformat": 4,
 "nbformat_minor": 5
}
